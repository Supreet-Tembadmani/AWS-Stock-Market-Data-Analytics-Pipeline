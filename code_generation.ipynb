{
 "cells": [
  {
   "cell_type": "code",
   "execution_count": 7,
   "id": "91cd34dd-5fc1-4d5f-90a2-18050f29fa99",
   "metadata": {},
   "outputs": [
    {
     "name": "stderr",
     "output_type": "stream",
     "text": [
      "[*********************100%***********************]  1 of 1 completed"
     ]
    },
    {
     "name": "stdout",
     "output_type": "stream",
     "text": [
      "Fetching stock data for the past 9 months...\n",
      "Converting data to CSV format...\n"
     ]
    },
    {
     "name": "stderr",
     "output_type": "stream",
     "text": [
      "\n"
     ]
    },
    {
     "name": "stdout",
     "output_type": "stream",
     "text": [
      "Uploading CSV to S3 bucket...\n",
      "Data uploaded successfully for 12 months!\n"
     ]
    }
   ],
   "source": [
    "import json\n",
    "import boto3\n",
    "import yfinance as yf\n",
    "import pandas as pd\n",
    "\n",
    "def fetch_and_upload_stock_data():\n",
    "    try:\n",
    "        # Fetch data using yfinance for the past 9 months\n",
    "        print(\"Fetching stock data for the past 9 months...\")\n",
    "        data = yf.download(tickers='AAPL', period='1y', interval='1d')\n",
    "\n",
    "        # Check if data is fetched\n",
    "        if data.empty:\n",
    "            print(\"No data fetched. Please check the ticker symbol or network connection.\")\n",
    "            return\n",
    "\n",
    "        # Convert to CSV format\n",
    "        print(\"Converting data to CSV format...\")\n",
    "        csv_data = data.to_csv(index=False)\n",
    "\n",
    "        # Use boto3 to upload the CSV to S3\n",
    "        print(\"Uploading CSV to S3 bucket...\")\n",
    "        s3 = boto3.client('s3')\n",
    "        s3.put_object(Bucket='stockmarketproj', Key='stock_data_1y.csv', Body=csv_data)\n",
    "\n",
    "        print(\"Data uploaded successfully for 12 months!\")\n",
    "\n",
    "    except Exception as e:\n",
    "        print(f\"An error occurred: {str(e)}\")\n",
    "\n",
    "# Run the function\n",
    "fetch_and_upload_stock_data()\n"
   ]
  },
  {
   "cell_type": "code",
   "execution_count": null,
   "id": "fad1d59d-d524-4956-8023-13665a3ec061",
   "metadata": {},
   "outputs": [],
   "source": []
  }
 ],
 "metadata": {
  "kernelspec": {
   "display_name": "Python 3 (ipykernel)",
   "language": "python",
   "name": "python3"
  },
  "language_info": {
   "codemirror_mode": {
    "name": "ipython",
    "version": 3
   },
   "file_extension": ".py",
   "mimetype": "text/x-python",
   "name": "python",
   "nbconvert_exporter": "python",
   "pygments_lexer": "ipython3",
   "version": "3.11.7"
  }
 },
 "nbformat": 4,
 "nbformat_minor": 5
}
